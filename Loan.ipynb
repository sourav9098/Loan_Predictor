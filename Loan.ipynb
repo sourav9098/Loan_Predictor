{
 "cells": [
  {
   "cell_type": "code",
   "execution_count": 24,
   "id": "6a9187ac-794a-4d65-8fcf-beabd0b51425",
   "metadata": {},
   "outputs": [],
   "source": [
    "import pandas as pd\n",
    "import numpy as np\n",
    "from sklearn.model_selection import train_test_split\n",
    "from sklearn.linear_model import LogisticRegression\n",
    "from sklearn.ensemble import RandomForestClassifier\n",
    "from sklearn.tree import DecisionTreeClassifier\n",
    "from sklearn.svm import SVC\n",
    "from sklearn.neighbors import KNeighborsClassifier\n",
    "from sklearn.metrics import accuracy_score\n",
    "import pickle"
   ]
  },
  {
   "cell_type": "code",
   "execution_count": 25,
   "id": "47cd6f92-9c13-4a60-a0d9-b0b9d4a5000c",
   "metadata": {},
   "outputs": [],
   "source": [
    "df = pd.read_csv(r\"C:\\Users\\User\\Downloads\\Home-Loan-Prediction-main\\Home-Loan-Prediction-main\\loan_data.csv\")"
   ]
  },
  {
   "cell_type": "code",
   "execution_count": 26,
   "id": "575d588b-8a3b-4a11-93ba-acac617f371e",
   "metadata": {},
   "outputs": [],
   "source": [
    "df['employment_type'] = df['employment_type'].map({'salaried': 0, 'self-employed': 1})\n",
    "df['prediction'] = df['prediction'].map({'yes': 1, 'no': 0})"
   ]
  },
  {
   "cell_type": "code",
   "execution_count": 27,
   "id": "de45f2c4-46af-486a-8cbf-6d433f614053",
   "metadata": {},
   "outputs": [],
   "source": [
    "X = df[['gross_income', 'tenure', 'interest_rate', 'other_emis', 'credit_score', 'age', 'employment_type', 'loan_amount']]\n",
    "y = df['prediction']"
   ]
  },
  {
   "cell_type": "code",
   "execution_count": 28,
   "id": "888d76cb-0f34-494f-bc7e-5ddb89973324",
   "metadata": {},
   "outputs": [],
   "source": [
    "X_train, X_test, y_train, y_test = train_test_split(X, y, test_size=0.2, random_state=42)"
   ]
  },
  {
   "cell_type": "code",
   "execution_count": 29,
   "id": "11b48186-8b23-4b65-a460-fb0a906a7fc1",
   "metadata": {},
   "outputs": [],
   "source": [
    "models = {\n",
    "    \"Logistic Regression\": LogisticRegression(max_iter=1000),\n",
    "    \"Random Forest\": RandomForestClassifier(),\n",
    "    \"Decision Tree\": DecisionTreeClassifier(),\n",
    "    \"SVM\": SVC(),\n",
    "    \"KNN\": KNeighborsClassifier()\n",
    "}"
   ]
  },
  {
   "cell_type": "code",
   "execution_count": 30,
   "id": "f4907c7a-dd09-4da5-ac23-ff7a66764cf3",
   "metadata": {},
   "outputs": [
    {
     "name": "stdout",
     "output_type": "stream",
     "text": [
      "Logistic Regression Accuracy: 0.4000\n",
      "Random Forest Accuracy: 0.6000\n",
      "Decision Tree Accuracy: 0.6000\n",
      "SVM Accuracy: 0.4500\n",
      "KNN Accuracy: 0.4500\n"
     ]
    }
   ],
   "source": [
    "model_scores = {}\n",
    "for name, model in models.items():\n",
    "    model.fit(X_train, y_train)\n",
    "    preds = model.predict(X_test)\n",
    "    acc = accuracy_score(y_test, preds)\n",
    "    model_scores[name] = acc\n",
    "    print(f\"{name} Accuracy: {acc:.4f}\")"
   ]
  },
  {
   "cell_type": "code",
   "execution_count": 31,
   "id": "8d44f0c9-4610-4bd7-a4ad-59bffba7cf77",
   "metadata": {},
   "outputs": [
    {
     "name": "stdout",
     "output_type": "stream",
     "text": [
      "\n",
      "✅ Best Model: Random Forest with Accuracy = 0.6000\n"
     ]
    }
   ],
   "source": [
    "best_model_name = max(model_scores, key=model_scores.get)\n",
    "best_model = models[best_model_name]\n",
    "print(f\"\\n✅ Best Model: {best_model_name} with Accuracy = {model_scores[best_model_name]:.4f}\")"
   ]
  },
  {
   "cell_type": "code",
   "execution_count": 32,
   "id": "54870458-d8d4-4f66-8637-8b9ba4d220e8",
   "metadata": {},
   "outputs": [],
   "source": [
    "with open('best_home_loan_model.pkl', 'wb') as f:\n",
    "    pickle.dump(best_model, f)"
   ]
  },
  {
   "cell_type": "code",
   "execution_count": null,
   "id": "45ce85d8-c6ae-4f36-9182-ed3efefe63b6",
   "metadata": {},
   "outputs": [],
   "source": []
  }
 ],
 "metadata": {
  "kernelspec": {
   "display_name": "Python 3 (ipykernel)",
   "language": "python",
   "name": "python3"
  },
  "language_info": {
   "codemirror_mode": {
    "name": "ipython",
    "version": 3
   },
   "file_extension": ".py",
   "mimetype": "text/x-python",
   "name": "python",
   "nbconvert_exporter": "python",
   "pygments_lexer": "ipython3",
   "version": "3.11.7"
  },
  "widgets": {
   "application/vnd.jupyter.widget-state+json": {
    "state": {},
    "version_major": 2,
    "version_minor": 0
   }
  }
 },
 "nbformat": 4,
 "nbformat_minor": 5
}
